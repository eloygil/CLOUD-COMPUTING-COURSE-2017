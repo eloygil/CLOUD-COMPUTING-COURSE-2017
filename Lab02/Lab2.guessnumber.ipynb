{
 "cells": [
  {
   "cell_type": "code",
   "execution_count": null,
   "metadata": {
    "collapsed": true
   },
   "outputs": [],
   "source": [
    "# Guessing game in Python2.7 by Eloy Gil\n",
    "### Email: eloy.gil@est.fib.upc.edu\n",
    "#### The game starts with a random number between 1 and 20.\n",
    "#### The player will guess and receive hints until the guess is correct.\n",
    "\n",
    "import random, sys\n",
    "\n",
    "random.seed(a=None)\n",
    "\n",
    "n = random.getrandbits(5)%21\n",
    "while (n == 0):\n",
    "\tn = random.getrandbits(5)%21\n",
    "\n",
    "guess = input(\"Try to guess the number! \")\n",
    "\n",
    "while guess != n:\n",
    "\tif (guess * 2 < n):\n",
    "\t\tprint \"The number is way bigger than \" + str(guess)\n",
    "\telif (guess < n):\n",
    "\t\tprint \"The number is bigger than \" + str(guess)\n",
    "\telif (guess > n * 2):\n",
    "\t\tprint \"The number is way smaller than \" + str(guess)\n",
    "\telse:\n",
    "\t\tprint \"The number is smaller than \" + str(guess)\n",
    "\tguess = input(\"Your new guess: \")\n",
    "\n",
    "print \"That's it! The correct number is \" + str(guess)"
   ]
  }
 ],
 "metadata": {
  "kernelspec": {
   "display_name": "Python 2",
   "language": "python",
   "name": "python2"
  },
  "language_info": {
   "codemirror_mode": {
    "name": "ipython",
    "version": 2
   },
   "file_extension": ".py",
   "mimetype": "text/x-python",
   "name": "python",
   "nbconvert_exporter": "python",
   "pygments_lexer": "ipython2",
   "version": "2.7.13"
  }
 },
 "nbformat": 4,
 "nbformat_minor": 2
}
