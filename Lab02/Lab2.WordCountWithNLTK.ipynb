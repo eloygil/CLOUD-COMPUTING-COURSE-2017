{
 "cells": [
  {
   "cell_type": "code",
   "execution_count": 1,
   "metadata": {
    "collapsed": false
   },
   "outputs": [
    {
     "name": "stdout",
     "output_type": "stream",
     "text": [
      "[nltk_data] Downloading package punkt to /home/eloy/nltk_data...\n",
      "[nltk_data]   Package punkt is already up-to-date!\n",
      "[('the', 23), (',', 20), ('.', 18), ('TensorFlow', 16), ('to', 14), ('in', 11), ('of', 10), ('and', 10), ('with', 7), ('a', 7)]\n"
     ]
    }
   ],
   "source": [
    "import nltk\n",
    "nltk.download('punkt') \n",
    "import string\n",
    "\n",
    "from collections import Counter\n",
    "\n",
    "def get_tokens():\n",
    "   with open('/home/eloy/CLOUD-COMPUTING-COURSE-2017/Lab02/FirstContactWithTensorFlow.txt', 'r') as tf:\n",
    "    text = tf.read()\n",
    "    tokens = nltk.word_tokenize(text)\n",
    "    return tokens\n",
    "\n",
    "tokens = get_tokens()\n",
    "count = Counter(tokens)\n",
    "print count.most_common(10)"
   ]
  },
  {
   "cell_type": "code",
   "execution_count": 2,
   "metadata": {
    "collapsed": false,
    "scrolled": false
   },
   "outputs": [
    {
     "name": "stdout",
     "output_type": "stream",
     "text": [
      "The number of words is 238\n"
     ]
    }
   ],
   "source": [
    "print \"The number of words is \" + str(len(count))"
   ]
  },
  {
   "cell_type": "code",
   "execution_count": 3,
   "metadata": {
    "collapsed": false
   },
   "outputs": [
    {
     "name": "stdout",
     "output_type": "stream",
     "text": [
      "[('the', 26), ('tensorflow', 16), ('to', 14), ('in', 12), ('of', 10), ('and', 10), ('machine', 10), ('a', 8), ('with', 7), ('for', 6)]\n",
      "The number of words, without punctuation, is 216\n"
     ]
    }
   ],
   "source": [
    "def get_tokens():\n",
    "   with open('/home/eloy/CLOUD-COMPUTING-COURSE-2017/Lab02/FirstContactWithTensorFlow.txt', 'r') as tf:\n",
    "    text = tf.read()\n",
    "    lowers = text.lower()\n",
    "    no_punctuation = lowers.translate(None, string.punctuation)\n",
    "    tokens = nltk.word_tokenize(no_punctuation)\n",
    "    return tokens\n",
    "\n",
    "tokens = get_tokens()\n",
    "count = Counter(tokens)\n",
    "print count.most_common(10)\n",
    "\n",
    "print \"The number of words, without punctuation, is \" + str(len(count))"
   ]
  },
  {
   "cell_type": "code",
   "execution_count": 4,
   "metadata": {
    "collapsed": false
   },
   "outputs": [
    {
     "name": "stdout",
     "output_type": "stream",
     "text": [
      "[('tensorflow', 16), ('machine', 10), ('google', 5), ('research', 5), ('translation', 5), ('data', 5), ('represent', 4), ('computation', 4), ('graph', 4), ('neural', 4)]\n",
      "The number of words after filtering is 173\n"
     ]
    },
    {
     "name": "stderr",
     "output_type": "stream",
     "text": [
      "/home/eloy/anaconda2/lib/python2.7/site-packages/ipykernel/__main__.py:12: UnicodeWarning: Unicode equal comparison failed to convert both arguments to Unicode - interpreting them as being unequal\n"
     ]
    }
   ],
   "source": [
    "from nltk.corpus import stopwords\n",
    "\n",
    "def get_tokens():\n",
    "   with open('/home/eloy/CLOUD-COMPUTING-COURSE-2017/Lab02/FirstContactWithTensorFlow.txt', 'r') as tf:\n",
    "    text = tf.read()\n",
    "    lowers = text.lower()\n",
    "    no_punctuation = lowers.translate(None, string.punctuation)\n",
    "    tokens = nltk.word_tokenize(no_punctuation)\n",
    "    return tokens\n",
    "\n",
    "tokens = get_tokens()\n",
    "filtered = [w for w in tokens if not w in stopwords.words('english')]\n",
    "count = Counter(filtered)\n",
    "print count.most_common(10)\n",
    "\n",
    "print \"The number of words after filtering is \" + str(len(count))"
   ]
  }
 ],
 "metadata": {
  "kernelspec": {
   "display_name": "Python 2",
   "language": "python",
   "name": "python2"
  },
  "language_info": {
   "codemirror_mode": {
    "name": "ipython",
    "version": 2
   },
   "file_extension": ".py",
   "mimetype": "text/x-python",
   "name": "python",
   "nbconvert_exporter": "python",
   "pygments_lexer": "ipython2",
   "version": "2.7.13"
  }
 },
 "nbformat": 4,
 "nbformat_minor": 2
}
